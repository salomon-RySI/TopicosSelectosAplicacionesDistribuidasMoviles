{
 "cells": [
  {
   "cell_type": "code",
   "execution_count": 11,
   "metadata": {},
   "outputs": [],
   "source": [
    "import sys"
   ]
  },
  {
   "cell_type": "code",
   "execution_count": 2,
   "metadata": {},
   "outputs": [
    {
     "data": {
      "text/plain": [
       "['',\n",
       " 'C:\\\\ProgramData\\\\Anaconda2\\\\python27.zip',\n",
       " 'C:\\\\ProgramData\\\\Anaconda2\\\\DLLs',\n",
       " 'C:\\\\ProgramData\\\\Anaconda2\\\\lib',\n",
       " 'C:\\\\ProgramData\\\\Anaconda2\\\\lib\\\\plat-win',\n",
       " 'C:\\\\ProgramData\\\\Anaconda2\\\\lib\\\\lib-tk',\n",
       " 'C:\\\\ProgramData\\\\Anaconda2',\n",
       " 'C:\\\\ProgramData\\\\Anaconda2\\\\lib\\\\site-packages',\n",
       " 'C:\\\\ProgramData\\\\Anaconda2\\\\lib\\\\site-packages\\\\win32',\n",
       " 'C:\\\\ProgramData\\\\Anaconda2\\\\lib\\\\site-packages\\\\win32\\\\lib',\n",
       " 'C:\\\\ProgramData\\\\Anaconda2\\\\lib\\\\site-packages\\\\Pythonwin',\n",
       " 'C:\\\\ProgramData\\\\Anaconda2\\\\lib\\\\site-packages\\\\pywinpty-0.5-py2.7-win-amd64.egg',\n",
       " 'C:\\\\ProgramData\\\\Anaconda2\\\\lib\\\\site-packages\\\\IPython\\\\extensions',\n",
       " 'C:\\\\Users\\\\GOGS\\\\.ipython']"
      ]
     },
     "execution_count": 2,
     "metadata": {},
     "output_type": "execute_result"
    }
   ],
   "source": [
    "sys.path"
   ]
  },
  {
   "cell_type": "code",
   "execution_count": 11,
   "metadata": {},
   "outputs": [],
   "source": [
    "import android"
   ]
  },
  {
   "cell_type": "code",
   "execution_count": 12,
   "metadata": {},
   "outputs": [],
   "source": [
    "droide = android.Android()"
   ]
  },
  {
   "cell_type": "code",
   "execution_count": 14,
   "metadata": {},
   "outputs": [
    {
     "data": {
      "text/plain": [
       "Result(id=1, result=None, error=None)"
      ]
     },
     "execution_count": 14,
     "metadata": {},
     "output_type": "execute_result"
    }
   ],
   "source": [
    "droide.makeToast(\"Un texto cualquier\")"
   ]
  },
  {
   "cell_type": "code",
   "execution_count": null,
   "metadata": {},
   "outputs": [],
   "source": [
    "droide.vibrate(2000)"
   ]
  },
  {
   "cell_type": "code",
   "execution_count": 31,
   "metadata": {},
   "outputs": [
    {
     "data": {
      "text/plain": [
       "Result(id=11, result=None, error=None)"
      ]
     },
     "execution_count": 31,
     "metadata": {},
     "output_type": "execute_result"
    }
   ],
   "source": [
    "droide.ttsSpeak(\"Hola mundo\")"
   ]
  },
  {
   "cell_type": "code",
   "execution_count": 59,
   "metadata": {},
   "outputs": [],
   "source": [
    "droide.dialogCreateAlert(\"Opcion uno\",\"Opcion dos\")\n",
    "droide.dialogSetPositiveButtonText(\"el uno\")\n",
    "droide.dialogSetNegativeButtonText(\"el uno\")\n",
    "droide.dialogShow()\n",
    "if (droide.dialogGetResponse().result['which']=='positive'):\n",
    "    droide.makeToast(\"Uno\")\n",
    "else:\n",
    "    droide.makeToast(\"Dos\")"
   ]
  },
  {
   "cell_type": "code",
   "execution_count": 60,
   "metadata": {},
   "outputs": [],
   "source": [
    "droide.dialogCreateAlert(\"Opcion uno\",\"Opcion dos\")\n",
    "droide.dialogSetPositiveButtonText(\"el uno\")\n",
    "droide.dialogSetNegativeButtonText(\"el uno\")\n",
    "droide.dialogShow()\n",
    "if (droide.dialogGetResponse().result['which']=='positive'):\n",
    "    droide.makeToast(str(range(100)))\n",
    "else:\n",
    "    droide.makeToast(\"Dos\")"
   ]
  },
  {
   "cell_type": "code",
   "execution_count": null,
   "metadata": {},
   "outputs": [],
   "source": [
    "droide.ttsSpeak(\"Muevelo muevelo\")\n",
    "droide.vibrate(\"1000\")\n",
    "droide.makeToast(\"Muevelo 1\")"
   ]
  },
  {
   "cell_type": "code",
   "execution_count": 61,
   "metadata": {},
   "outputs": [
    {
     "name": "stdout",
     "output_type": "stream",
     "text": [
      "com.googlecode.android_scripting.rpc.RpcError: Unknown RPC.\n"
     ]
    }
   ],
   "source": [
    "droide.getLastKnowLocation().result"
   ]
  },
  {
   "cell_type": "code",
   "execution_count": 79,
   "metadata": {},
   "outputs": [
    {
     "data": {
      "text/plain": [
       "Result(id=1, result=[u'passive', u'gps', u'network'], error=None)"
      ]
     },
     "execution_count": 79,
     "metadata": {},
     "output_type": "execute_result"
    }
   ],
   "source": [
    "droide.locationProviders()"
   ]
  },
  {
   "cell_type": "code",
   "execution_count": 62,
   "metadata": {},
   "outputs": [
    {
     "data": {
      "text/plain": [
       "Result(id=8, result=True, error=None)"
      ]
     },
     "execution_count": 62,
     "metadata": {},
     "output_type": "execute_result"
    }
   ],
   "source": [
    "droide.locationProviderEnabled(\"gps\")"
   ]
  },
  {
   "cell_type": "code",
   "execution_count": 63,
   "metadata": {},
   "outputs": [
    {
     "data": {
      "text/plain": [
       "Result(id=9, result=True, error=None)"
      ]
     },
     "execution_count": 63,
     "metadata": {},
     "output_type": "execute_result"
    }
   ],
   "source": [
    "droide.locationProviderEnabled(\"network\")"
   ]
  },
  {
   "cell_type": "code",
   "execution_count": 67,
   "metadata": {},
   "outputs": [
    {
     "data": {
      "text/plain": [
       "Result(id=14, result=None, error=None)"
      ]
     },
     "execution_count": 67,
     "metadata": {},
     "output_type": "execute_result"
    }
   ],
   "source": [
    "import datetime \n",
    "loc = droide.getLastKnownLocation().result\n",
    "if loc[\"gps\"] is not None:\n",
    "    loc = loc[\"gps\"]\n",
    "else:\n",
    "    loc = loc[\"network\"]\n",
    "lat=loc[\"latitude\"]\n",
    "lon=loc[\"longitude\"]\n",
    "direccion = droide.geocode(lat,lon)\n",
    "time = loc[\"time\"]\n",
    "FechaHora = datetime.datetime.fromtimestamp(time/1e3)\n",
    "Fechaok=FechaHora.strftime(\"%H %M %S del dia %A %d de %B del año %Y\")\n",
    "cp = direccion.result[0][\"postal_code\"]\n",
    "#cp=\"91130\"\n",
    "cc = direccion.result[0][\"country_code\"]\n",
    "ciu = direccion.result[0][\"locality\"]\n",
    "calle = direccion.result[0][\"thoroughfare\"]\n",
    "url=\"http://api.openweathermap.org/data/2.5/weather?zip={0},{1}&APPID=dfeea5e604e1948b28652216ad910d11\".format(cp,cc)\n",
    "import requests\n",
    "r=requests.get(url).json()\n",
    "wdesc=r[\"weather\"][0]['description']\n",
    "mensaje='En la ciudad de '+ciu+' siendo las '+FechaHora.strftime(\"%H\")+' horas '+FechaHora.strftime(\"%M\")+' minutos '+FechaHora.strftime(\"%S\")+' segundos en la calle de '+calle+', el estado del tiempo es '+wdesc\n",
    "droide.ttsSpeak(mensaje)"
   ]
  },
  {
   "cell_type": "code",
   "execution_count": null,
   "metadata": {},
   "outputs": [],
   "source": []
  }
 ],
 "metadata": {
  "kernelspec": {
   "display_name": "Python 2",
   "language": "python",
   "name": "python2"
  },
  "language_info": {
   "codemirror_mode": {
    "name": "ipython",
    "version": 2
   },
   "file_extension": ".py",
   "mimetype": "text/x-python",
   "name": "python",
   "nbconvert_exporter": "python",
   "pygments_lexer": "ipython2",
   "version": "2.7.14"
  }
 },
 "nbformat": 4,
 "nbformat_minor": 2
}
